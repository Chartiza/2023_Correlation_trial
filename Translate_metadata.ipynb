{
 "cells": [
  {
   "cell_type": "code",
   "execution_count": 1,
   "metadata": {},
   "outputs": [],
   "source": [
    "# import packages\n",
    "import matplotlib.pyplot as plt\n",
    "import pandas as pd\n",
    "import seaborn as sns "
   ]
  },
  {
   "cell_type": "code",
   "execution_count": 2,
   "metadata": {},
   "outputs": [
    {
     "data": {
      "text/html": [
       "<div>\n",
       "<style scoped>\n",
       "    .dataframe tbody tr th:only-of-type {\n",
       "        vertical-align: middle;\n",
       "    }\n",
       "\n",
       "    .dataframe tbody tr th {\n",
       "        vertical-align: top;\n",
       "    }\n",
       "\n",
       "    .dataframe thead th {\n",
       "        text-align: right;\n",
       "    }\n",
       "</style>\n",
       "<table border=\"1\" class=\"dataframe\">\n",
       "  <thead>\n",
       "    <tr style=\"text-align: right;\">\n",
       "      <th></th>\n",
       "      <th>skood</th>\n",
       "      <th>gender</th>\n",
       "      <th>Age_at_MBsample</th>\n",
       "      <th>BMI</th>\n",
       "      <th>WHR</th>\n",
       "      <th>antibiotics</th>\n",
       "      <th>samplingSeason</th>\n",
       "      <th>BP_systolic</th>\n",
       "      <th>birthPlace_typeCity</th>\n",
       "      <th>bornByCaesereanSection_code</th>\n",
       "      <th>...</th>\n",
       "      <th>hasPets_name_mapeada</th>\n",
       "      <th>hasSpecialDietFollowing_name_mapeada</th>\n",
       "      <th>hasTakenSupplements_name_mapeada</th>\n",
       "      <th>seasonableAllergy_name_mapeada</th>\n",
       "      <th>takenRinsingMouth_name_mapeada</th>\n",
       "      <th>tonsilsRemoved_name_mapeada</th>\n",
       "      <th>conditionBowel_name_mapeada</th>\n",
       "      <th>dringingWaterAtHome_name_mapeada</th>\n",
       "      <th>frequencyGutEmpting_name_mapeada</th>\n",
       "      <th>health_status_mapeada</th>\n",
       "    </tr>\n",
       "  </thead>\n",
       "  <tbody>\n",
       "    <tr>\n",
       "      <th>2507</th>\n",
       "      <td>EGVD047449</td>\n",
       "      <td>1</td>\n",
       "      <td>NaN</td>\n",
       "      <td>21.14</td>\n",
       "      <td>0.81</td>\n",
       "      <td>Not in the last year</td>\n",
       "      <td>NaN</td>\n",
       "      <td>NaN</td>\n",
       "      <td>1.0</td>\n",
       "      <td>2.0</td>\n",
       "      <td>...</td>\n",
       "      <td>Yes</td>\n",
       "      <td>No</td>\n",
       "      <td>Yes</td>\n",
       "      <td>No</td>\n",
       "      <td>No</td>\n",
       "      <td>No</td>\n",
       "      <td>I have normal bowel movements</td>\n",
       "      <td>Tap water</td>\n",
       "      <td>Once a day</td>\n",
       "      <td>I have no pain or discomfort</td>\n",
       "    </tr>\n",
       "    <tr>\n",
       "      <th>2508</th>\n",
       "      <td>EGVD048679</td>\n",
       "      <td>1</td>\n",
       "      <td>NaN</td>\n",
       "      <td>31.64</td>\n",
       "      <td>0.90</td>\n",
       "      <td>Not in the last year</td>\n",
       "      <td>NaN</td>\n",
       "      <td>NaN</td>\n",
       "      <td>1.0</td>\n",
       "      <td>2.0</td>\n",
       "      <td>...</td>\n",
       "      <td>Yes</td>\n",
       "      <td>No</td>\n",
       "      <td>No</td>\n",
       "      <td>No</td>\n",
       "      <td>No</td>\n",
       "      <td>No</td>\n",
       "      <td>I have normal bowel movements</td>\n",
       "      <td>Tap water</td>\n",
       "      <td>Once a day</td>\n",
       "      <td>I have no pain or discomfort</td>\n",
       "    </tr>\n",
       "  </tbody>\n",
       "</table>\n",
       "<p>2 rows × 345 columns</p>\n",
       "</div>"
      ],
      "text/plain": [
       "           skood  gender  Age_at_MBsample    BMI   WHR           antibiotics  \\\n",
       "2507  EGVD047449       1              NaN  21.14  0.81  Not in the last year   \n",
       "2508  EGVD048679       1              NaN  31.64  0.90  Not in the last year   \n",
       "\n",
       "     samplingSeason  BP_systolic  birthPlace_typeCity  \\\n",
       "2507            NaN          NaN                  1.0   \n",
       "2508            NaN          NaN                  1.0   \n",
       "\n",
       "      bornByCaesereanSection_code  ... hasPets_name_mapeada  \\\n",
       "2507                          2.0  ...                  Yes   \n",
       "2508                          2.0  ...                  Yes   \n",
       "\n",
       "     hasSpecialDietFollowing_name_mapeada  hasTakenSupplements_name_mapeada  \\\n",
       "2507                                   No                               Yes   \n",
       "2508                                   No                                No   \n",
       "\n",
       "     seasonableAllergy_name_mapeada  takenRinsingMouth_name_mapeada  \\\n",
       "2507                             No                              No   \n",
       "2508                             No                              No   \n",
       "\n",
       "     tonsilsRemoved_name_mapeada    conditionBowel_name_mapeada  \\\n",
       "2507                          No  I have normal bowel movements   \n",
       "2508                          No  I have normal bowel movements   \n",
       "\n",
       "     dringingWaterAtHome_name_mapeada  frequencyGutEmpting_name_mapeada  \\\n",
       "2507                        Tap water                        Once a day   \n",
       "2508                        Tap water                        Once a day   \n",
       "\n",
       "             health_status_mapeada  \n",
       "2507  I have no pain or discomfort  \n",
       "2508  I have no pain or discomfort  \n",
       "\n",
       "[2 rows x 345 columns]"
      ]
     },
     "execution_count": 2,
     "metadata": {},
     "output_type": "execute_result"
    }
   ],
   "source": [
    "#df = pd.read_csv('input/EstMB_phenotype_data.csv', sep=',', encoding='latin1')\n",
    "df = pd.read_excel('results/EstMB_phenotype_data.xlsx')\n",
    "df.tail(2)"
   ]
  },
  {
   "cell_type": "code",
   "execution_count": 6,
   "metadata": {},
   "outputs": [
    {
     "data": {
      "text/html": [
       "<div>\n",
       "<style scoped>\n",
       "    .dataframe tbody tr th:only-of-type {\n",
       "        vertical-align: middle;\n",
       "    }\n",
       "\n",
       "    .dataframe tbody tr th {\n",
       "        vertical-align: top;\n",
       "    }\n",
       "\n",
       "    .dataframe thead th {\n",
       "        text-align: right;\n",
       "    }\n",
       "</style>\n",
       "<table border=\"1\" class=\"dataframe\">\n",
       "  <thead>\n",
       "    <tr style=\"text-align: right;\">\n",
       "      <th></th>\n",
       "      <th>ICD10_category</th>\n",
       "      <th>ICD10_name</th>\n",
       "    </tr>\n",
       "  </thead>\n",
       "  <tbody>\n",
       "    <tr>\n",
       "      <th>0</th>\n",
       "      <td>A00</td>\n",
       "      <td>Cholera</td>\n",
       "    </tr>\n",
       "    <tr>\n",
       "      <th>1</th>\n",
       "      <td>A01</td>\n",
       "      <td>Typhoid and paratyphoid fevers</td>\n",
       "    </tr>\n",
       "    <tr>\n",
       "      <th>2</th>\n",
       "      <td>A02</td>\n",
       "      <td>Other salmonella infections</td>\n",
       "    </tr>\n",
       "    <tr>\n",
       "      <th>3</th>\n",
       "      <td>A03</td>\n",
       "      <td>Shigellosis</td>\n",
       "    </tr>\n",
       "    <tr>\n",
       "      <th>4</th>\n",
       "      <td>A04</td>\n",
       "      <td>Other bacterial intestinal infections</td>\n",
       "    </tr>\n",
       "  </tbody>\n",
       "</table>\n",
       "</div>"
      ],
      "text/plain": [
       "  ICD10_category                             ICD10_name\n",
       "0            A00                                Cholera\n",
       "1            A01         Typhoid and paratyphoid fevers\n",
       "2            A02            Other salmonella infections\n",
       "3            A03                            Shigellosis\n",
       "4            A04  Other bacterial intestinal infections"
      ]
     },
     "execution_count": 6,
     "metadata": {},
     "output_type": "execute_result"
    }
   ],
   "source": [
    "nm = pd.read_excel('input/ICD10_name_data_v3.xlsx')\n",
    "nm.head()"
   ]
  },
  {
   "cell_type": "code",
   "execution_count": 11,
   "metadata": {},
   "outputs": [
    {
     "data": {
      "text/html": [
       "<div>\n",
       "<style scoped>\n",
       "    .dataframe tbody tr th:only-of-type {\n",
       "        vertical-align: middle;\n",
       "    }\n",
       "\n",
       "    .dataframe tbody tr th {\n",
       "        vertical-align: top;\n",
       "    }\n",
       "\n",
       "    .dataframe thead th {\n",
       "        text-align: right;\n",
       "    }\n",
       "</style>\n",
       "<table border=\"1\" class=\"dataframe\">\n",
       "  <thead>\n",
       "    <tr style=\"text-align: right;\">\n",
       "      <th></th>\n",
       "      <th>ICD10_category</th>\n",
       "    </tr>\n",
       "  </thead>\n",
       "  <tbody>\n",
       "    <tr>\n",
       "      <th>0</th>\n",
       "      <td>skood</td>\n",
       "    </tr>\n",
       "    <tr>\n",
       "      <th>1</th>\n",
       "      <td>gender</td>\n",
       "    </tr>\n",
       "    <tr>\n",
       "      <th>2</th>\n",
       "      <td>Age_at_MBsample</td>\n",
       "    </tr>\n",
       "    <tr>\n",
       "      <th>3</th>\n",
       "      <td>BMI</td>\n",
       "    </tr>\n",
       "    <tr>\n",
       "      <th>4</th>\n",
       "      <td>WHR</td>\n",
       "    </tr>\n",
       "    <tr>\n",
       "      <th>...</th>\n",
       "      <td>...</td>\n",
       "    </tr>\n",
       "    <tr>\n",
       "      <th>340</th>\n",
       "      <td>tonsilsRemoved_name_mapeada</td>\n",
       "    </tr>\n",
       "    <tr>\n",
       "      <th>341</th>\n",
       "      <td>conditionBowel_name_mapeada</td>\n",
       "    </tr>\n",
       "    <tr>\n",
       "      <th>342</th>\n",
       "      <td>dringingWaterAtHome_name_mapeada</td>\n",
       "    </tr>\n",
       "    <tr>\n",
       "      <th>343</th>\n",
       "      <td>frequencyGutEmpting_name_mapeada</td>\n",
       "    </tr>\n",
       "    <tr>\n",
       "      <th>344</th>\n",
       "      <td>health_status_mapeada</td>\n",
       "    </tr>\n",
       "  </tbody>\n",
       "</table>\n",
       "<p>345 rows × 1 columns</p>\n",
       "</div>"
      ],
      "text/plain": [
       "                       ICD10_category\n",
       "0                               skood\n",
       "1                              gender\n",
       "2                     Age_at_MBsample\n",
       "3                                 BMI\n",
       "4                                 WHR\n",
       "..                                ...\n",
       "340       tonsilsRemoved_name_mapeada\n",
       "341       conditionBowel_name_mapeada\n",
       "342  dringingWaterAtHome_name_mapeada\n",
       "343  frequencyGutEmpting_name_mapeada\n",
       "344             health_status_mapeada\n",
       "\n",
       "[345 rows x 1 columns]"
      ]
     },
     "execution_count": 11,
     "metadata": {},
     "output_type": "execute_result"
    }
   ],
   "source": [
    "# Print the names of all columns\n",
    "column_names = df.columns\n",
    "# convrt nm to df\n",
    "column_names = pd.DataFrame(column_names)\n",
    "# change column name\n",
    "column_names.columns = ['ICD10_category']\n",
    "column_names"
   ]
  },
  {
   "cell_type": "code",
   "execution_count": 13,
   "metadata": {},
   "outputs": [
    {
     "data": {
      "text/html": [
       "<div>\n",
       "<style scoped>\n",
       "    .dataframe tbody tr th:only-of-type {\n",
       "        vertical-align: middle;\n",
       "    }\n",
       "\n",
       "    .dataframe tbody tr th {\n",
       "        vertical-align: top;\n",
       "    }\n",
       "\n",
       "    .dataframe thead th {\n",
       "        text-align: right;\n",
       "    }\n",
       "</style>\n",
       "<table border=\"1\" class=\"dataframe\">\n",
       "  <thead>\n",
       "    <tr style=\"text-align: right;\">\n",
       "      <th></th>\n",
       "      <th>ICD10_category</th>\n",
       "      <th>ICD10_name</th>\n",
       "    </tr>\n",
       "  </thead>\n",
       "  <tbody>\n",
       "    <tr>\n",
       "      <th>0</th>\n",
       "      <td>B18</td>\n",
       "      <td>Chronic viral hepatitis</td>\n",
       "    </tr>\n",
       "    <tr>\n",
       "      <th>1</th>\n",
       "      <td>B37</td>\n",
       "      <td>Candidiasis</td>\n",
       "    </tr>\n",
       "    <tr>\n",
       "      <th>2</th>\n",
       "      <td>C18</td>\n",
       "      <td>Malignant neoplasm of colon</td>\n",
       "    </tr>\n",
       "    <tr>\n",
       "      <th>3</th>\n",
       "      <td>D10</td>\n",
       "      <td>Benign neoplasm of mouth and pharynx</td>\n",
       "    </tr>\n",
       "    <tr>\n",
       "      <th>4</th>\n",
       "      <td>D12</td>\n",
       "      <td>Benign neoplasm of colon, rectum, anus and ana...</td>\n",
       "    </tr>\n",
       "    <tr>\n",
       "      <th>...</th>\n",
       "      <td>...</td>\n",
       "      <td>...</td>\n",
       "    </tr>\n",
       "    <tr>\n",
       "      <th>60</th>\n",
       "      <td>N20</td>\n",
       "      <td>Calculus of kidney and ureter</td>\n",
       "    </tr>\n",
       "    <tr>\n",
       "      <th>61</th>\n",
       "      <td>N80</td>\n",
       "      <td>Endometriosis</td>\n",
       "    </tr>\n",
       "    <tr>\n",
       "      <th>62</th>\n",
       "      <td>N81</td>\n",
       "      <td>Female genital prolapse</td>\n",
       "    </tr>\n",
       "    <tr>\n",
       "      <th>63</th>\n",
       "      <td>N95</td>\n",
       "      <td>Menopausal and other perimenopausal disorders</td>\n",
       "    </tr>\n",
       "    <tr>\n",
       "      <th>64</th>\n",
       "      <td>N97</td>\n",
       "      <td>Female infertility</td>\n",
       "    </tr>\n",
       "  </tbody>\n",
       "</table>\n",
       "<p>65 rows × 2 columns</p>\n",
       "</div>"
      ],
      "text/plain": [
       "   ICD10_category                                         ICD10_name\n",
       "0             B18                            Chronic viral hepatitis\n",
       "1             B37                                        Candidiasis\n",
       "2             C18                        Malignant neoplasm of colon\n",
       "3             D10               Benign neoplasm of mouth and pharynx\n",
       "4             D12  Benign neoplasm of colon, rectum, anus and ana...\n",
       "..            ...                                                ...\n",
       "60            N20                      Calculus of kidney and ureter\n",
       "61            N80                                      Endometriosis\n",
       "62            N81                            Female genital prolapse\n",
       "63            N95      Menopausal and other perimenopausal disorders\n",
       "64            N97                                 Female infertility\n",
       "\n",
       "[65 rows x 2 columns]"
      ]
     },
     "execution_count": 13,
     "metadata": {},
     "output_type": "execute_result"
    }
   ],
   "source": [
    "# merge nm and column names\n",
    "mrg = pd.merge(nm, column_names, on='ICD10_category', how='inner')\n",
    "mrg\n"
   ]
  },
  {
   "attachments": {},
   "cell_type": "markdown",
   "metadata": {},
   "source": [
    "Antibiotics"
   ]
  },
  {
   "cell_type": "code",
   "execution_count": 14,
   "metadata": {},
   "outputs": [
    {
     "data": {
      "text/plain": [
       "Series([], dtype: int64)"
      ]
     },
     "execution_count": 14,
     "metadata": {},
     "output_type": "execute_result"
    }
   ],
   "source": [
    "df.value_counts()"
   ]
  },
  {
   "cell_type": "code",
   "execution_count": 18,
   "metadata": {},
   "outputs": [
    {
     "data": {
      "text/plain": [
       "Viimase aasta jooksul mitte    1525\n",
       "Viimase aasta jooksul           420\n",
       "Viimase 6 kuu jooksul           417\n",
       "Viimasel kuul                    90\n",
       "Viimasel nädalal                 32\n",
       "Name: antibiotics, dtype: int64"
      ]
     },
     "execution_count": 18,
     "metadata": {},
     "output_type": "execute_result"
    }
   ],
   "source": [
    "df['antibiotics'].value_counts()"
   ]
  },
  {
   "cell_type": "code",
   "execution_count": 21,
   "metadata": {},
   "outputs": [],
   "source": [
    "# Create a dictionary to map values\n",
    "mapping_dict = {'Viimase aasta jooksul mitte': 'Not in the last year', \n",
    "                'Viimase aasta jooksul': 'During the last year', \n",
    "                'Viimase 6 kuu jooksul': 'In the last 6 months',\n",
    "                'Viimasel kuul': 'In the last month', \n",
    "                'Viimasel nädalal': 'In the last week'}\n",
    "\n",
    "# Using the map() method to create a new column\n",
    "#df['antibiotics_mapeada'] = df['antibiotics'].map(mapping_dict)\n",
    "\n",
    "# Using the replace() method to replace values in the column\n",
    "#df['antibiotics'].replace(mapping_dict, inplace=True)\n"
   ]
  },
  {
   "attachments": {},
   "cell_type": "markdown",
   "metadata": {},
   "source": [
    "Yes/No"
   ]
  },
  {
   "cell_type": "code",
   "execution_count": 15,
   "metadata": {},
   "outputs": [
    {
     "data": {
      "text/plain": [
       "No             2380\n",
       "Do not know      74\n",
       "Yes              51\n",
       "Name: bornByCaesereanSection_name, dtype: int64"
      ]
     },
     "execution_count": 15,
     "metadata": {},
     "output_type": "execute_result"
    }
   ],
   "source": [
    "df['bornByCaesereanSection_name'].value_counts()"
   ]
  },
  {
   "cell_type": "code",
   "execution_count": 26,
   "metadata": {},
   "outputs": [
    {
     "data": {
      "text/html": [
       "<div>\n",
       "<style scoped>\n",
       "    .dataframe tbody tr th:only-of-type {\n",
       "        vertical-align: middle;\n",
       "    }\n",
       "\n",
       "    .dataframe tbody tr th {\n",
       "        vertical-align: top;\n",
       "    }\n",
       "\n",
       "    .dataframe thead th {\n",
       "        text-align: right;\n",
       "    }\n",
       "</style>\n",
       "<table border=\"1\" class=\"dataframe\">\n",
       "  <thead>\n",
       "    <tr style=\"text-align: right;\">\n",
       "      <th></th>\n",
       "      <th>skood</th>\n",
       "      <th>gender</th>\n",
       "      <th>Age_at_MBsample</th>\n",
       "      <th>BMI</th>\n",
       "      <th>WHR</th>\n",
       "      <th>antibiotics</th>\n",
       "      <th>samplingSeason</th>\n",
       "      <th>BP_systolic</th>\n",
       "      <th>birthPlace_typeCity</th>\n",
       "      <th>bornByCaesereanSection_code</th>\n",
       "      <th>...</th>\n",
       "      <th>doesPhysicalExercise</th>\n",
       "      <th>mental_health_status_ok</th>\n",
       "      <th>health_status_ok</th>\n",
       "      <th>alcohol_frequency_category</th>\n",
       "      <th>antibiotics_history_quartile</th>\n",
       "      <th>antidepressants_history_quartile</th>\n",
       "      <th>antibiotics_history_cont</th>\n",
       "      <th>antidepressants_history_cont</th>\n",
       "      <th>antibiotics_mapeada</th>\n",
       "      <th>bornByCaesereanSection_name_mapeada</th>\n",
       "    </tr>\n",
       "  </thead>\n",
       "  <tbody>\n",
       "    <tr>\n",
       "      <th>2507</th>\n",
       "      <td>EGVD047449</td>\n",
       "      <td>1</td>\n",
       "      <td>NaN</td>\n",
       "      <td>21.14</td>\n",
       "      <td>0.81</td>\n",
       "      <td>Not in the last year</td>\n",
       "      <td>NaN</td>\n",
       "      <td>NaN</td>\n",
       "      <td>1.0</td>\n",
       "      <td>2.0</td>\n",
       "      <td>...</td>\n",
       "      <td>0</td>\n",
       "      <td>1</td>\n",
       "      <td>1</td>\n",
       "      <td>NaN</td>\n",
       "      <td>Not used</td>\n",
       "      <td>Not used</td>\n",
       "      <td>0.0</td>\n",
       "      <td>0.0</td>\n",
       "      <td>Not in the last year</td>\n",
       "      <td>No</td>\n",
       "    </tr>\n",
       "    <tr>\n",
       "      <th>2508</th>\n",
       "      <td>EGVD048679</td>\n",
       "      <td>1</td>\n",
       "      <td>NaN</td>\n",
       "      <td>31.64</td>\n",
       "      <td>0.90</td>\n",
       "      <td>Not in the last year</td>\n",
       "      <td>NaN</td>\n",
       "      <td>NaN</td>\n",
       "      <td>1.0</td>\n",
       "      <td>2.0</td>\n",
       "      <td>...</td>\n",
       "      <td>0</td>\n",
       "      <td>1</td>\n",
       "      <td>1</td>\n",
       "      <td>Low</td>\n",
       "      <td>Not used</td>\n",
       "      <td>Not used</td>\n",
       "      <td>0.0</td>\n",
       "      <td>0.0</td>\n",
       "      <td>Not in the last year</td>\n",
       "      <td>No</td>\n",
       "    </tr>\n",
       "  </tbody>\n",
       "</table>\n",
       "<p>2 rows × 330 columns</p>\n",
       "</div>"
      ],
      "text/plain": [
       "           skood  gender  Age_at_MBsample    BMI   WHR           antibiotics  \\\n",
       "2507  EGVD047449       1              NaN  21.14  0.81  Not in the last year   \n",
       "2508  EGVD048679       1              NaN  31.64  0.90  Not in the last year   \n",
       "\n",
       "     samplingSeason  BP_systolic  birthPlace_typeCity  \\\n",
       "2507            NaN          NaN                  1.0   \n",
       "2508            NaN          NaN                  1.0   \n",
       "\n",
       "      bornByCaesereanSection_code  ... doesPhysicalExercise  \\\n",
       "2507                          2.0  ...                    0   \n",
       "2508                          2.0  ...                    0   \n",
       "\n",
       "     mental_health_status_ok  health_status_ok alcohol_frequency_category  \\\n",
       "2507                       1                 1                        NaN   \n",
       "2508                       1                 1                        Low   \n",
       "\n",
       "      antibiotics_history_quartile antidepressants_history_quartile  \\\n",
       "2507                      Not used                         Not used   \n",
       "2508                      Not used                         Not used   \n",
       "\n",
       "      antibiotics_history_cont antidepressants_history_cont  \\\n",
       "2507                       0.0                          0.0   \n",
       "2508                       0.0                          0.0   \n",
       "\n",
       "       antibiotics_mapeada bornByCaesereanSection_name_mapeada  \n",
       "2507  Not in the last year                                  No  \n",
       "2508  Not in the last year                                  No  \n",
       "\n",
       "[2 rows x 330 columns]"
      ]
     },
     "execution_count": 26,
     "metadata": {},
     "output_type": "execute_result"
    }
   ],
   "source": [
    "# Create a dictionary to map values\n",
    "mapping_dict = {'Ei': 'No', \n",
    "                'Ei tea': 'Do not know', \n",
    "                'Jah': 'Yes'}\n",
    "\n",
    "# Using the map() method to create a new column\n",
    "df['bornByCaesereanSection_name_mapeada'] = df['bornByCaesereanSection_name'].map(mapping_dict)\n",
    "# Using the replace() method to replace values in the column\n",
    "df['bornByCaesereanSection_name'].replace(mapping_dict, inplace=True)\n",
    "\n",
    "df.tail(2)"
   ]
  },
  {
   "cell_type": "code",
   "execution_count": 40,
   "metadata": {},
   "outputs": [],
   "source": [
    "# Create a dictionary to map values\n",
    "mapping_dict = {'Ei': 'No', \n",
    "                'Ei tea': 'Do not know', \n",
    "                'Jah': 'Yes'}"
   ]
  },
  {
   "cell_type": "code",
   "execution_count": 50,
   "metadata": {},
   "outputs": [
    {
     "data": {
      "text/plain": [
       "Ei        1629\n",
       "Jah        858\n",
       "Ei tea      18\n",
       "Name: tonsilsRemoved_name, dtype: int64"
      ]
     },
     "execution_count": 50,
     "metadata": {},
     "output_type": "execute_result"
    }
   ],
   "source": [
    "df['tonsilsRemoved_name'].value_counts()"
   ]
  },
  {
   "cell_type": "code",
   "execution_count": 51,
   "metadata": {},
   "outputs": [],
   "source": [
    "# Using the map() method to create a new column\n",
    "df['tonsilsRemoved_name_mapeada'] = df['tonsilsRemoved_name'].map(mapping_dict)\n",
    "# Using the replace() method to replace values in the column\n",
    "df['tonsilsRemoved_name'].replace(mapping_dict, inplace=True)"
   ]
  },
  {
   "cell_type": "code",
   "execution_count": 49,
   "metadata": {},
   "outputs": [],
   "source": [
    "# Using the map() method to create a new column\n",
    "df['takenRinsingMouth_name_mapeada'] = df['takenRinsingMouth_name'].map(mapping_dict)\n",
    "# Using the replace() method to replace values in the column\n",
    "df['takenRinsingMouth_name'].replace(mapping_dict, inplace=True)"
   ]
  },
  {
   "cell_type": "code",
   "execution_count": 47,
   "metadata": {},
   "outputs": [],
   "source": [
    "# Using the map() method to create a new column\n",
    "df['seasonableAllergy_name_mapeada'] = df['seasonableAllergy_name'].map(mapping_dict)\n",
    "# Using the replace() method to replace values in the column\n",
    "df['seasonableAllergy_name'].replace(mapping_dict, inplace=True)"
   ]
  },
  {
   "cell_type": "code",
   "execution_count": 45,
   "metadata": {},
   "outputs": [],
   "source": [
    "# Using the map() method to create a new column\n",
    "df['hasTakenSupplements_name_mapeada'] = df['hasTakenSupplements_name'].map(mapping_dict)\n",
    "# Using the replace() method to replace values in the column\n",
    "df['hasTakenSupplements_name'].replace(mapping_dict, inplace=True)"
   ]
  },
  {
   "cell_type": "code",
   "execution_count": 43,
   "metadata": {},
   "outputs": [],
   "source": [
    "# Using the map() method to create a new column\n",
    "df['hasSpecialDietFollowing_name_mapeada'] = df['hasSpecialDietFollowing_name'].map(mapping_dict)\n",
    "# Using the replace() method to replace values in the column\n",
    "df['hasSpecialDietFollowing_name'].replace(mapping_dict, inplace=True)"
   ]
  },
  {
   "cell_type": "code",
   "execution_count": 41,
   "metadata": {},
   "outputs": [],
   "source": [
    "# Using the map() method to create a new column\n",
    "df['hasPets_name_mapeada'] = df['hasPets_name'].map(mapping_dict)\n",
    "# Using the replace() method to replace values in the column\n",
    "df['hasPets_name'].replace(mapping_dict, inplace=True)"
   ]
  },
  {
   "cell_type": "code",
   "execution_count": 36,
   "metadata": {},
   "outputs": [],
   "source": [
    "# Using the map() method to create a new column\n",
    "df['hasBowelMoreInformation_name_mapeada'] = df['hasBowelMoreInformation_name'].map(mapping_dict)\n",
    "# Using the replace() method to replace values in the column\n",
    "df['hasBowelMoreInformation_name'].replace(mapping_dict, inplace=True)"
   ]
  },
  {
   "cell_type": "code",
   "execution_count": 34,
   "metadata": {},
   "outputs": [],
   "source": [
    "# Using the map() method to create a new column\n",
    "df['gumTreatmentPerformed_name_mapeada'] = df['gumTreatmentPerformed_name'].map(mapping_dict)\n",
    "# Using the replace() method to replace values in the column\n",
    "df['gumTreatmentPerformed_name'].replace(mapping_dict, inplace=True)"
   ]
  },
  {
   "cell_type": "code",
   "execution_count": 32,
   "metadata": {},
   "outputs": [],
   "source": [
    "# Using the map() method to create a new column\n",
    "df['gumDiseaseDiagnosed_name_mapeada'] = df['gumDiseaseDiagnosed_name'].map(mapping_dict)\n",
    "# Using the replace() method to replace values in the column\n",
    "df['gumDiseaseDiagnosed_name'].replace(mapping_dict, inplace=True)"
   ]
  },
  {
   "cell_type": "code",
   "execution_count": 28,
   "metadata": {},
   "outputs": [],
   "source": [
    "# Using the map() method to create a new column\n",
    "df['cecumRemoved_name_mapeada'] = df['cecumRemoved_name'].map(mapping_dict)\n",
    "# Using the replace() method to replace values in the column\n",
    "df['cecumRemoved_name'].replace(mapping_dict, inplace=True)"
   ]
  },
  {
   "cell_type": "code",
   "execution_count": 30,
   "metadata": {},
   "outputs": [],
   "source": [
    "# Using the map() method to create a new column\n",
    "df['chickenpox_name_mapeada'] = df['chickenpox_name'].map(mapping_dict)\n",
    "# Using the replace() method to replace values in the column\n",
    "df['chickenpox_name'].replace(mapping_dict, inplace=True)\n"
   ]
  },
  {
   "attachments": {},
   "cell_type": "markdown",
   "metadata": {},
   "source": [
    "new\n"
   ]
  },
  {
   "cell_type": "code",
   "execution_count": 54,
   "metadata": {},
   "outputs": [
    {
     "data": {
      "text/plain": [
       "Mul on normaalne soole tühjenemine                                                       1489\n",
       "Mul esineb sageli kõhukinnisust                                                           410\n",
       "Mul esineb vahelduv kõhulahtisus (periooditi kõhu kinnisus, periooditi kõhu lahtisus)     300\n",
       "Mul esineb sageli kõhulahtisust                                                           222\n",
       "Ei tea                                                                                     84\n",
       "Name: conditionBowel_name, dtype: int64"
      ]
     },
     "execution_count": 54,
     "metadata": {},
     "output_type": "execute_result"
    }
   ],
   "source": [
    "df['conditionBowel_name'].value_counts()"
   ]
  },
  {
   "cell_type": "code",
   "execution_count": 55,
   "metadata": {},
   "outputs": [],
   "source": [
    "# Create a dictionary to map values\n",
    "mapping_dict = {'Mul on normaalne soole tühjenemine': 'I have normal bowel movements', \n",
    "                'Mul esineb sageli kõhukinnisust': 'I am often constipated', \n",
    "                'Mul esineb vahelduv kõhulahtisus (periooditi kõhu kinnisus, periooditi kõhu lahtisus)': 'I have intermittent diarrhea (constipation at times, bloating at times)',\n",
    "                'Mul esineb sageli kõhulahtisust': 'I often have diarrhea', \n",
    "                'Ei tea': 'Do not know'}\n",
    "\n",
    "# Using the map() method to create a new column\n",
    "df['conditionBowel_name_mapeada'] = df['conditionBowel_name'].map(mapping_dict)\n",
    "# Using the replace() method to replace values in the column\n",
    "df['conditionBowel_name'].replace(mapping_dict, inplace=True)"
   ]
  },
  {
   "cell_type": "code",
   "execution_count": 56,
   "metadata": {},
   "outputs": [
    {
     "data": {
      "text/plain": [
       "Kraanivett                1907\n",
       "Kaevuvett                  272\n",
       "Pudelivett                 197\n",
       "Filtreeritud joogivett     124\n",
       "Ei tea                       5\n",
       "Name: dringingWaterAtHome_name, dtype: int64"
      ]
     },
     "execution_count": 56,
     "metadata": {},
     "output_type": "execute_result"
    }
   ],
   "source": [
    "df['dringingWaterAtHome_name'].value_counts()"
   ]
  },
  {
   "cell_type": "code",
   "execution_count": 57,
   "metadata": {},
   "outputs": [],
   "source": [
    "# Create a dictionary to map values\n",
    "mapping_dict = {'Kraanivett': 'Tap water', \n",
    "                'Kaevuvett': 'Well water', \n",
    "                'Pudelivett': 'Bottled water',\n",
    "                'Filtreeritud joogivett': 'Filtered drinking water', \n",
    "                'Ei tea': 'Do not know'}\n",
    "\n",
    "# Using the map() method to create a new column\n",
    "df['dringingWaterAtHome_name_mapeada'] = df['dringingWaterAtHome_name'].map(mapping_dict)\n",
    "# Using the replace() method to replace values in the column\n",
    "df['dringingWaterAtHome_name'].replace(mapping_dict, inplace=True)"
   ]
  },
  {
   "cell_type": "code",
   "execution_count": 59,
   "metadata": {},
   "outputs": [
    {
     "data": {
      "text/plain": [
       "Üks kord päevas                                      1395\n",
       "Kaks korda päevas                                     517\n",
       "Kolm kuni kuus korda nädalas                          403\n",
       "Üks kuni kaks korda nädalas                           109\n",
       "Üle kolme korra päevas                                 63\n",
       "Väga ebaregulaarselt, ükski eelnev vastus ei sobi      14\n",
       "Vähem kui üks kord nädalas                              3\n",
       "Name: frequencyGutEmpting_name, dtype: int64"
      ]
     },
     "execution_count": 59,
     "metadata": {},
     "output_type": "execute_result"
    }
   ],
   "source": [
    "df['frequencyGutEmpting_name'].value_counts()"
   ]
  },
  {
   "cell_type": "code",
   "execution_count": 60,
   "metadata": {},
   "outputs": [],
   "source": [
    "# Create a dictionary to map values\n",
    "mapping_dict = {'Üks kord päevas': 'Once a day', \n",
    "                'Kaks korda päevas': 'Twice a day', \n",
    "                'Kolm kuni kuus korda nädalas': 'Three to six times a week',\n",
    "                'Üks kuni kaks korda nädalas': 'One to two times a week', \n",
    "                'Üle kolme korra päevas': 'More than three times a day',\n",
    "                'Väga ebaregulaarselt, ükski eelnev vastus ei sobi': 'Very irregular, none of the previous answers fit',\n",
    "                'Vähem kui üks kord nädalas': 'Less than once a week'}\n",
    "\n",
    "# Using the map() method to create a new column\n",
    "df['frequencyGutEmpting_name_mapeada'] = df['frequencyGutEmpting_name'].map(mapping_dict)\n",
    "# Using the replace() method to replace values in the column\n",
    "df['frequencyGutEmpting_name'].replace(mapping_dict, inplace=True)"
   ]
  },
  {
   "cell_type": "code",
   "execution_count": 61,
   "metadata": {},
   "outputs": [],
   "source": [
    "df.to_excel('results/EstMB_phenotype_data.xlsx', index=False)"
   ]
  },
  {
   "attachments": {},
   "cell_type": "markdown",
   "metadata": {},
   "source": [
    "next"
   ]
  },
  {
   "cell_type": "code",
   "execution_count": 6,
   "metadata": {},
   "outputs": [
    {
     "data": {
      "text/plain": [
       "Mul on mõõdukas valu või ebamugavustunne           1243\n",
       "Mul ei ole mingeid valusid ega ebamugavustunnet    1212\n",
       "Mul on väga tugev valu või ebamugavustunne           53\n",
       "Mul on mõõdukas  valu või ebamugavustunne             1\n",
       "Name: health_status, dtype: int64"
      ]
     },
     "execution_count": 6,
     "metadata": {},
     "output_type": "execute_result"
    }
   ],
   "source": [
    "df['health_status'].value_counts()"
   ]
  },
  {
   "cell_type": "code",
   "execution_count": 7,
   "metadata": {},
   "outputs": [],
   "source": [
    "# Create a dictionary to map values\n",
    "mapping_dict = {'Mul on mõõdukas valu või ebamugavustunne': 'I have moderate pain or discomfort', \n",
    "                'Mul ei ole mingeid valusid ega ebamugavustunnet': 'I have no pain or discomfort', \n",
    "                'Mul on väga tugev valu või ebamugavustunne': 'I have very severe pain or discomfort',\n",
    "                'Mul on mõõdukas  valu või ebamugavustunne': 'I have moderate pain or discomfort'}\n",
    "\n",
    "# Using the map() method to create a new column\n",
    "df['health_status_mapeada'] = df['health_status'].map(mapping_dict)\n",
    "# Using the replace() method to replace values in the column\n",
    "df['health_status'].replace(mapping_dict, inplace=True)"
   ]
  },
  {
   "cell_type": "code",
   "execution_count": 8,
   "metadata": {},
   "outputs": [],
   "source": [
    "df.to_excel('results/EstMB_phenotype_data.xlsx', index=False)"
   ]
  }
 ],
 "metadata": {
  "kernelspec": {
   "display_name": "Python 3",
   "language": "python",
   "name": "python3"
  },
  "language_info": {
   "codemirror_mode": {
    "name": "ipython",
    "version": 3
   },
   "file_extension": ".py",
   "mimetype": "text/x-python",
   "name": "python",
   "nbconvert_exporter": "python",
   "pygments_lexer": "ipython3",
   "version": "3.8.3"
  }
 },
 "nbformat": 4,
 "nbformat_minor": 2
}
