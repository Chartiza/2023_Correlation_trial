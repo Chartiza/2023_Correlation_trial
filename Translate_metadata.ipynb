{
 "cells": [
  {
   "cell_type": "code",
   "execution_count": 2,
   "metadata": {},
   "outputs": [],
   "source": [
    "# import packages\n",
    "import matplotlib.pyplot as plt\n",
    "import pandas as pd\n",
    "import seaborn as sns "
   ]
  },
  {
   "cell_type": "code",
   "execution_count": 3,
   "metadata": {},
   "outputs": [
    {
     "data": {
      "text/html": [
       "<div>\n",
       "<style scoped>\n",
       "    .dataframe tbody tr th:only-of-type {\n",
       "        vertical-align: middle;\n",
       "    }\n",
       "\n",
       "    .dataframe tbody tr th {\n",
       "        vertical-align: top;\n",
       "    }\n",
       "\n",
       "    .dataframe thead th {\n",
       "        text-align: right;\n",
       "    }\n",
       "</style>\n",
       "<table border=\"1\" class=\"dataframe\">\n",
       "  <thead>\n",
       "    <tr style=\"text-align: right;\">\n",
       "      <th></th>\n",
       "      <th>Unnamed: 0</th>\n",
       "      <th>skood</th>\n",
       "      <th>gender</th>\n",
       "      <th>Age_at_MBsample</th>\n",
       "      <th>BMI</th>\n",
       "      <th>WHR</th>\n",
       "      <th>antibiotics</th>\n",
       "      <th>samplingSeason</th>\n",
       "      <th>BP_systolic</th>\n",
       "      <th>birthPlace_typeCity</th>\n",
       "      <th>...</th>\n",
       "      <th>hasBowelMoreInformation_name_mapeada</th>\n",
       "      <th>hasPets_name_mapeada</th>\n",
       "      <th>hasSpecialDietFollowing_name_mapeada</th>\n",
       "      <th>hasTakenSupplements_name_mapeada</th>\n",
       "      <th>seasonableAllergy_name_mapeada</th>\n",
       "      <th>takenRinsingMouth_name_mapeada</th>\n",
       "      <th>tonsilsRemoved_name_mapeada</th>\n",
       "      <th>conditionBowel_name_mapeada</th>\n",
       "      <th>dringingWaterAtHome_name_mapeada</th>\n",
       "      <th>frequencyGutEmpting_name_mapeada</th>\n",
       "    </tr>\n",
       "  </thead>\n",
       "  <tbody>\n",
       "    <tr>\n",
       "      <th>2507</th>\n",
       "      <td>2507</td>\n",
       "      <td>EGVD047449</td>\n",
       "      <td>1</td>\n",
       "      <td>NaN</td>\n",
       "      <td>21.14</td>\n",
       "      <td>0.81</td>\n",
       "      <td>Not in the last year</td>\n",
       "      <td>NaN</td>\n",
       "      <td>NaN</td>\n",
       "      <td>1.0</td>\n",
       "      <td>...</td>\n",
       "      <td>No</td>\n",
       "      <td>Yes</td>\n",
       "      <td>No</td>\n",
       "      <td>Yes</td>\n",
       "      <td>No</td>\n",
       "      <td>No</td>\n",
       "      <td>No</td>\n",
       "      <td>I have normal bowel movements</td>\n",
       "      <td>Tap water</td>\n",
       "      <td>Once a day</td>\n",
       "    </tr>\n",
       "    <tr>\n",
       "      <th>2508</th>\n",
       "      <td>2508</td>\n",
       "      <td>EGVD048679</td>\n",
       "      <td>1</td>\n",
       "      <td>NaN</td>\n",
       "      <td>31.64</td>\n",
       "      <td>0.90</td>\n",
       "      <td>Not in the last year</td>\n",
       "      <td>NaN</td>\n",
       "      <td>NaN</td>\n",
       "      <td>1.0</td>\n",
       "      <td>...</td>\n",
       "      <td>No</td>\n",
       "      <td>Yes</td>\n",
       "      <td>No</td>\n",
       "      <td>No</td>\n",
       "      <td>No</td>\n",
       "      <td>No</td>\n",
       "      <td>No</td>\n",
       "      <td>I have normal bowel movements</td>\n",
       "      <td>Tap water</td>\n",
       "      <td>Once a day</td>\n",
       "    </tr>\n",
       "  </tbody>\n",
       "</table>\n",
       "<p>2 rows × 345 columns</p>\n",
       "</div>"
      ],
      "text/plain": [
       "      Unnamed: 0       skood  gender  Age_at_MBsample    BMI   WHR  \\\n",
       "2507        2507  EGVD047449       1              NaN  21.14  0.81   \n",
       "2508        2508  EGVD048679       1              NaN  31.64  0.90   \n",
       "\n",
       "               antibiotics samplingSeason  BP_systolic  birthPlace_typeCity  \\\n",
       "2507  Not in the last year            NaN          NaN                  1.0   \n",
       "2508  Not in the last year            NaN          NaN                  1.0   \n",
       "\n",
       "      ...  hasBowelMoreInformation_name_mapeada hasPets_name_mapeada  \\\n",
       "2507  ...                                    No                  Yes   \n",
       "2508  ...                                    No                  Yes   \n",
       "\n",
       "     hasSpecialDietFollowing_name_mapeada  hasTakenSupplements_name_mapeada  \\\n",
       "2507                                   No                               Yes   \n",
       "2508                                   No                                No   \n",
       "\n",
       "     seasonableAllergy_name_mapeada  takenRinsingMouth_name_mapeada  \\\n",
       "2507                             No                              No   \n",
       "2508                             No                              No   \n",
       "\n",
       "     tonsilsRemoved_name_mapeada    conditionBowel_name_mapeada  \\\n",
       "2507                          No  I have normal bowel movements   \n",
       "2508                          No  I have normal bowel movements   \n",
       "\n",
       "     dringingWaterAtHome_name_mapeada  frequencyGutEmpting_name_mapeada  \n",
       "2507                        Tap water                        Once a day  \n",
       "2508                        Tap water                        Once a day  \n",
       "\n",
       "[2 rows x 345 columns]"
      ]
     },
     "execution_count": 3,
     "metadata": {},
     "output_type": "execute_result"
    }
   ],
   "source": [
    "#df = pd.read_csv('input/EstMB_phenotype_data.csv', sep=',', encoding='latin1')\n",
    "df = pd.read_excel('results/EstMB_phenotype_data.xlsx')\n",
    "df.tail(2)"
   ]
  },
  {
   "cell_type": "code",
   "execution_count": 52,
   "metadata": {},
   "outputs": [],
   "source": [
    "df.to_excel('results/EstMB_phenotype_data.xlsx')"
   ]
  },
  {
   "cell_type": "code",
   "execution_count": 11,
   "metadata": {},
   "outputs": [
    {
     "name": "stdout",
     "output_type": "stream",
     "text": [
      "['skood', 'gender', 'Age_at_MBsample', 'BMI', 'WHR', 'antibiotics', 'samplingSeason', 'BP_systolic', 'birthPlace_typeCity', 'bornByCaesereanSection_code', 'bornByCaesereanSection_name', 'bowelMoreInformatsion', 'cecumRemoved_code', 'cecumRemoved_name', 'chickenpox_code', 'chickenpox_name', 'conditionBowel_code', 'conditionBowel_name', 'dringingWaterAtHome_code', 'dringingWaterAtHome_name', 'foodAllergyOther', 'foodBabyFirstMonths_code', 'foodBabyFirstMonths_name', 'frequencyGutEmpting_code', 'frequencyGutEmpting_name', 'frequencyTakenBvitFolFoolacid_code', 'frequencyTakenBvitFolFoolacid_name', 'frequencyTakenDvit_code', 'frequencyTakenDvit_name', 'frequencyTakenProbiotic_code', 'frequencyTakenProbiotic_name', 'funcalDiagnosed_code', 'funcalDiagnosed_name', 'funcalDiagnosedGenital_code', 'funcalDiagnosedGenital_name', 'gumDiseaseDiagnosed_code', 'gumDiseaseDiagnosed_name', 'gumTreatmentPerformed_code', 'gumTreatmentPerformed_name', 'hasBowelMoreInformation_code', 'hasBowelMoreInformation_name', 'hasLactoseIntoleranceDiagnosed_code', 'hasLactoseIntoleranceDiagnosed_name', 'hasPets_code', 'hasPets_name', 'hasSpecialDietFollowing_code', 'hasSpecialDietFollowing_name', 'hasTakenMultivitamin_code', 'hasTakenMultivitamin_name', 'hasTakenSupplements_code', 'hasTakenSupplements_name', 'inflammatoryBowelDiagnosed_code', 'inflammatoryBowelDiagnosed_name', 'irritableBowelSyndromeDiagnosed_code', 'irritableBowelSyndromeDiagnosed_name', 'livingInPresentResidenceTime_code', 'livingInPresentResidenceTime_name', 'petsOther', 'seasonableAllergy_code', 'seasonableAllergy_name', 'sensitivityGlutenSubject_code', 'sensitivityGlutenSubject_name', 'sensitivityLactoseSubject_code', 'sensitivityLactoseSubject_name', 'specialDietFollowing', 'takenRinsingMouth_code', 'takenRinsingMouth_name', 'takenSupplements', 'tonsilsRemoved_code', 'tonsilsRemoved_name', 'usingAntibioticsPeriod_code', 'usingAntibioticsPeriod_name', 'usingAntibioticsTime_code', 'usingAntibioticsTime_name', 'usualStoolType_code', 'usualStoolType_name', 'vaccinateInfluenzaTime_code', 'vaccinateInfluenzaTime_name', 'bornByCaesereanSection', 'cecumRemoved', 'chickenpox', 'dringingWaterAtHome_well', 'gumDiseaseDiagnosed', 'seasonableAllergy', 'foodBabyFirstMonths_breastmilk', 'hasPets', 'tonsilsRemoved', 'usualStoolType', 'usualStoolType_category', 'eatingHabit_name', 'Coffee', 'Tea', 'Bread', 'Whitebread', 'Adds salt', 'Potatoes', 'Rice, pasta', 'Porridge, muesli', 'Dairy', 'Fish', 'Meat', 'Meat products (wieners, sausages)', 'Fresh vegetables', 'Boiled vegetables', 'Fresh fruit, berries', 'Compote, jams', 'Sweets', 'Soft drinks', 'Eggs', 'isVegan', 'Anesteesia', 'II astme intensiivravi', 'Koloskoopia', 'B18', 'B37', 'C18', 'D10', 'D12', 'D50', 'D51', 'E10', 'E11', 'E28', 'E55', 'E73', 'E78', 'F20', 'F31', 'F32', 'F33', 'F41', 'F50', 'G20', 'G40', 'G43', 'H25', 'H40', 'I10', 'I11', 'I25', 'I48', 'I49', 'I50', 'I70', 'I84', 'J02', 'J03', 'J20', 'J30', 'J31', 'J35', 'J45', 'K21', 'K25', 'K29', 'K35', 'K50', 'K51', 'K52', 'K58', 'K80', 'L20', 'L40', 'L70', 'M05', 'M06', 'M10', 'M13', 'M15', 'M80', 'M81', 'N10', 'N11', 'N18', 'N20', 'N80', 'N81', 'N95', 'N97', 'A02BC01', 'A02BC02', 'A02BC05', 'A03AA04', 'A07EC', 'A09AA02', 'A10AE', 'A10B', 'A10BA02', 'B01A', 'B01AA03', 'B01AF01', 'B01AF02', 'B03B', 'C01BC03', 'C01DA', 'C01EB15', 'C03BA11', 'C03CA04', 'C05AA84', 'C07A', 'C07AA05', 'C07AB02', 'C07AB12', 'C08CA', 'C08CA01', 'C08CA13', 'C09AA02', 'C09AA04', 'C09AA05', 'C09BA', 'C09BA04', 'C09BB04', 'C09BX01', 'C09CA', 'C09CA06', 'C09CA07', 'C09DA', 'C09DA07', 'C09DB04', 'C10AA01', 'C10AA05', 'C10AA07', 'D01A', 'D01AC80', 'D07AC', 'D07AC13', 'D07B', 'D07CC80', 'D10AF', 'D11A', 'G01A', 'G01AF', 'G02BA03', 'G03AA', 'G03AA10', 'G03AA12', 'G03AA16', 'G03AC09', 'G03CA03', 'G03D', 'G03FA', 'G03G', 'G04BD', 'G04BE03', 'G04CA01', 'G04CA02', 'G04CA52', 'H02AB', 'H03AA01', 'J02AC01', 'J05A', 'J05AB11', 'J07BA01', 'J07BB02', 'L04AX', 'M01A', 'M01AB05', 'M01AC05', 'M01AC06', 'M01AE', 'M01AE01', 'M01AE03', 'M01AE52', 'M01AH01', 'M01AH05', 'M01AX05', 'M03BX02', 'M04AA01', 'M05BB03', 'N02A', 'N02AJ06', 'N02AX02', 'N02CC01', 'N03A', 'N03AX12', 'N03AX16', 'N04B', 'N05AH04', 'N05BA', 'N05BA01', 'N05BA12', 'N05CF01', 'N05CF02', 'N06AA', 'N06AB', 'N06AB05', 'N06AB06', 'N06AB10', 'N06AX', 'N06AX12', 'N06AX16', 'N06AX21', 'N06AX22', 'N07CA01', 'R01AD', 'R01AD09', 'R01AD12', 'R01BA93', 'R03A', 'R03AK', 'R03AK07', 'R03AK10', 'R06AE07', 'R06AX', 'S01AA', 'S01CA81', 'S01CA82', 'S01ED', 'S01ED01', 'S01EE', 'S01EE01', 'has_smoked', 'has_smoked_lastYear', 'alcohol_has_used', 'alcohol_frequency_num', 'alcohol_frequency', 'otherDrugs', 'health_status', 'mental_health_status', 'maakond', 'doesPhysicalExercise', 'mental_health_status_ok', 'health_status_ok', 'alcohol_frequency_category', 'antibiotics_history_quartile', 'antidepressants_history_quartile', 'antibiotics_history_cont', 'antidepressants_history_cont']\n"
     ]
    }
   ],
   "source": [
    "# Print the names of all columns\n",
    "column_names = df.columns.tolist()\n",
    "print(column_names)"
   ]
  },
  {
   "attachments": {},
   "cell_type": "markdown",
   "metadata": {},
   "source": [
    "Antibiotics"
   ]
  },
  {
   "cell_type": "code",
   "execution_count": 18,
   "metadata": {},
   "outputs": [
    {
     "data": {
      "text/plain": [
       "Viimase aasta jooksul mitte    1525\n",
       "Viimase aasta jooksul           420\n",
       "Viimase 6 kuu jooksul           417\n",
       "Viimasel kuul                    90\n",
       "Viimasel nädalal                 32\n",
       "Name: antibiotics, dtype: int64"
      ]
     },
     "execution_count": 18,
     "metadata": {},
     "output_type": "execute_result"
    }
   ],
   "source": [
    "df['antibiotics'].value_counts()"
   ]
  },
  {
   "cell_type": "code",
   "execution_count": 21,
   "metadata": {},
   "outputs": [],
   "source": [
    "# Create a dictionary to map values\n",
    "mapping_dict = {'Viimase aasta jooksul mitte': 'Not in the last year', \n",
    "                'Viimase aasta jooksul': 'During the last year', \n",
    "                'Viimase 6 kuu jooksul': 'In the last 6 months',\n",
    "                'Viimasel kuul': 'In the last month', \n",
    "                'Viimasel nädalal': 'In the last week'}\n",
    "\n",
    "# Using the map() method to create a new column\n",
    "#df['antibiotics_mapeada'] = df['antibiotics'].map(mapping_dict)\n",
    "\n",
    "# Using the replace() method to replace values in the column\n",
    "#df['antibiotics'].replace(mapping_dict, inplace=True)\n"
   ]
  },
  {
   "attachments": {},
   "cell_type": "markdown",
   "metadata": {},
   "source": [
    "Yes/No"
   ]
  },
  {
   "cell_type": "code",
   "execution_count": 25,
   "metadata": {},
   "outputs": [
    {
     "data": {
      "text/plain": [
       "Ei        2380\n",
       "Ei tea      74\n",
       "Jah         51\n",
       "Name: bornByCaesereanSection_name, dtype: int64"
      ]
     },
     "execution_count": 25,
     "metadata": {},
     "output_type": "execute_result"
    }
   ],
   "source": [
    "df['bornByCaesereanSection_name'].value_counts()"
   ]
  },
  {
   "cell_type": "code",
   "execution_count": 26,
   "metadata": {},
   "outputs": [
    {
     "data": {
      "text/html": [
       "<div>\n",
       "<style scoped>\n",
       "    .dataframe tbody tr th:only-of-type {\n",
       "        vertical-align: middle;\n",
       "    }\n",
       "\n",
       "    .dataframe tbody tr th {\n",
       "        vertical-align: top;\n",
       "    }\n",
       "\n",
       "    .dataframe thead th {\n",
       "        text-align: right;\n",
       "    }\n",
       "</style>\n",
       "<table border=\"1\" class=\"dataframe\">\n",
       "  <thead>\n",
       "    <tr style=\"text-align: right;\">\n",
       "      <th></th>\n",
       "      <th>skood</th>\n",
       "      <th>gender</th>\n",
       "      <th>Age_at_MBsample</th>\n",
       "      <th>BMI</th>\n",
       "      <th>WHR</th>\n",
       "      <th>antibiotics</th>\n",
       "      <th>samplingSeason</th>\n",
       "      <th>BP_systolic</th>\n",
       "      <th>birthPlace_typeCity</th>\n",
       "      <th>bornByCaesereanSection_code</th>\n",
       "      <th>...</th>\n",
       "      <th>doesPhysicalExercise</th>\n",
       "      <th>mental_health_status_ok</th>\n",
       "      <th>health_status_ok</th>\n",
       "      <th>alcohol_frequency_category</th>\n",
       "      <th>antibiotics_history_quartile</th>\n",
       "      <th>antidepressants_history_quartile</th>\n",
       "      <th>antibiotics_history_cont</th>\n",
       "      <th>antidepressants_history_cont</th>\n",
       "      <th>antibiotics_mapeada</th>\n",
       "      <th>bornByCaesereanSection_name_mapeada</th>\n",
       "    </tr>\n",
       "  </thead>\n",
       "  <tbody>\n",
       "    <tr>\n",
       "      <th>2507</th>\n",
       "      <td>EGVD047449</td>\n",
       "      <td>1</td>\n",
       "      <td>NaN</td>\n",
       "      <td>21.14</td>\n",
       "      <td>0.81</td>\n",
       "      <td>Not in the last year</td>\n",
       "      <td>NaN</td>\n",
       "      <td>NaN</td>\n",
       "      <td>1.0</td>\n",
       "      <td>2.0</td>\n",
       "      <td>...</td>\n",
       "      <td>0</td>\n",
       "      <td>1</td>\n",
       "      <td>1</td>\n",
       "      <td>NaN</td>\n",
       "      <td>Not used</td>\n",
       "      <td>Not used</td>\n",
       "      <td>0.0</td>\n",
       "      <td>0.0</td>\n",
       "      <td>Not in the last year</td>\n",
       "      <td>No</td>\n",
       "    </tr>\n",
       "    <tr>\n",
       "      <th>2508</th>\n",
       "      <td>EGVD048679</td>\n",
       "      <td>1</td>\n",
       "      <td>NaN</td>\n",
       "      <td>31.64</td>\n",
       "      <td>0.90</td>\n",
       "      <td>Not in the last year</td>\n",
       "      <td>NaN</td>\n",
       "      <td>NaN</td>\n",
       "      <td>1.0</td>\n",
       "      <td>2.0</td>\n",
       "      <td>...</td>\n",
       "      <td>0</td>\n",
       "      <td>1</td>\n",
       "      <td>1</td>\n",
       "      <td>Low</td>\n",
       "      <td>Not used</td>\n",
       "      <td>Not used</td>\n",
       "      <td>0.0</td>\n",
       "      <td>0.0</td>\n",
       "      <td>Not in the last year</td>\n",
       "      <td>No</td>\n",
       "    </tr>\n",
       "  </tbody>\n",
       "</table>\n",
       "<p>2 rows × 330 columns</p>\n",
       "</div>"
      ],
      "text/plain": [
       "           skood  gender  Age_at_MBsample    BMI   WHR           antibiotics  \\\n",
       "2507  EGVD047449       1              NaN  21.14  0.81  Not in the last year   \n",
       "2508  EGVD048679       1              NaN  31.64  0.90  Not in the last year   \n",
       "\n",
       "     samplingSeason  BP_systolic  birthPlace_typeCity  \\\n",
       "2507            NaN          NaN                  1.0   \n",
       "2508            NaN          NaN                  1.0   \n",
       "\n",
       "      bornByCaesereanSection_code  ... doesPhysicalExercise  \\\n",
       "2507                          2.0  ...                    0   \n",
       "2508                          2.0  ...                    0   \n",
       "\n",
       "     mental_health_status_ok  health_status_ok alcohol_frequency_category  \\\n",
       "2507                       1                 1                        NaN   \n",
       "2508                       1                 1                        Low   \n",
       "\n",
       "      antibiotics_history_quartile antidepressants_history_quartile  \\\n",
       "2507                      Not used                         Not used   \n",
       "2508                      Not used                         Not used   \n",
       "\n",
       "      antibiotics_history_cont antidepressants_history_cont  \\\n",
       "2507                       0.0                          0.0   \n",
       "2508                       0.0                          0.0   \n",
       "\n",
       "       antibiotics_mapeada bornByCaesereanSection_name_mapeada  \n",
       "2507  Not in the last year                                  No  \n",
       "2508  Not in the last year                                  No  \n",
       "\n",
       "[2 rows x 330 columns]"
      ]
     },
     "execution_count": 26,
     "metadata": {},
     "output_type": "execute_result"
    }
   ],
   "source": [
    "# Create a dictionary to map values\n",
    "mapping_dict = {'Ei': 'No', \n",
    "                'Ei tea': 'Do not know', \n",
    "                'Jah': 'Yes'}\n",
    "\n",
    "# Using the map() method to create a new column\n",
    "df['bornByCaesereanSection_name_mapeada'] = df['bornByCaesereanSection_name'].map(mapping_dict)\n",
    "# Using the replace() method to replace values in the column\n",
    "df['bornByCaesereanSection_name'].replace(mapping_dict, inplace=True)\n",
    "\n",
    "df.tail(2)"
   ]
  },
  {
   "cell_type": "code",
   "execution_count": 40,
   "metadata": {},
   "outputs": [],
   "source": [
    "# Create a dictionary to map values\n",
    "mapping_dict = {'Ei': 'No', \n",
    "                'Ei tea': 'Do not know', \n",
    "                'Jah': 'Yes'}"
   ]
  },
  {
   "cell_type": "code",
   "execution_count": 50,
   "metadata": {},
   "outputs": [
    {
     "data": {
      "text/plain": [
       "Ei        1629\n",
       "Jah        858\n",
       "Ei tea      18\n",
       "Name: tonsilsRemoved_name, dtype: int64"
      ]
     },
     "execution_count": 50,
     "metadata": {},
     "output_type": "execute_result"
    }
   ],
   "source": [
    "df['tonsilsRemoved_name'].value_counts()"
   ]
  },
  {
   "cell_type": "code",
   "execution_count": 51,
   "metadata": {},
   "outputs": [],
   "source": [
    "# Using the map() method to create a new column\n",
    "df['tonsilsRemoved_name_mapeada'] = df['tonsilsRemoved_name'].map(mapping_dict)\n",
    "# Using the replace() method to replace values in the column\n",
    "df['tonsilsRemoved_name'].replace(mapping_dict, inplace=True)"
   ]
  },
  {
   "cell_type": "code",
   "execution_count": 49,
   "metadata": {},
   "outputs": [],
   "source": [
    "# Using the map() method to create a new column\n",
    "df['takenRinsingMouth_name_mapeada'] = df['takenRinsingMouth_name'].map(mapping_dict)\n",
    "# Using the replace() method to replace values in the column\n",
    "df['takenRinsingMouth_name'].replace(mapping_dict, inplace=True)"
   ]
  },
  {
   "cell_type": "code",
   "execution_count": 47,
   "metadata": {},
   "outputs": [],
   "source": [
    "# Using the map() method to create a new column\n",
    "df['seasonableAllergy_name_mapeada'] = df['seasonableAllergy_name'].map(mapping_dict)\n",
    "# Using the replace() method to replace values in the column\n",
    "df['seasonableAllergy_name'].replace(mapping_dict, inplace=True)"
   ]
  },
  {
   "cell_type": "code",
   "execution_count": 45,
   "metadata": {},
   "outputs": [],
   "source": [
    "# Using the map() method to create a new column\n",
    "df['hasTakenSupplements_name_mapeada'] = df['hasTakenSupplements_name'].map(mapping_dict)\n",
    "# Using the replace() method to replace values in the column\n",
    "df['hasTakenSupplements_name'].replace(mapping_dict, inplace=True)"
   ]
  },
  {
   "cell_type": "code",
   "execution_count": 43,
   "metadata": {},
   "outputs": [],
   "source": [
    "# Using the map() method to create a new column\n",
    "df['hasSpecialDietFollowing_name_mapeada'] = df['hasSpecialDietFollowing_name'].map(mapping_dict)\n",
    "# Using the replace() method to replace values in the column\n",
    "df['hasSpecialDietFollowing_name'].replace(mapping_dict, inplace=True)"
   ]
  },
  {
   "cell_type": "code",
   "execution_count": 41,
   "metadata": {},
   "outputs": [],
   "source": [
    "# Using the map() method to create a new column\n",
    "df['hasPets_name_mapeada'] = df['hasPets_name'].map(mapping_dict)\n",
    "# Using the replace() method to replace values in the column\n",
    "df['hasPets_name'].replace(mapping_dict, inplace=True)"
   ]
  },
  {
   "cell_type": "code",
   "execution_count": 36,
   "metadata": {},
   "outputs": [],
   "source": [
    "# Using the map() method to create a new column\n",
    "df['hasBowelMoreInformation_name_mapeada'] = df['hasBowelMoreInformation_name'].map(mapping_dict)\n",
    "# Using the replace() method to replace values in the column\n",
    "df['hasBowelMoreInformation_name'].replace(mapping_dict, inplace=True)"
   ]
  },
  {
   "cell_type": "code",
   "execution_count": 34,
   "metadata": {},
   "outputs": [],
   "source": [
    "# Using the map() method to create a new column\n",
    "df['gumTreatmentPerformed_name_mapeada'] = df['gumTreatmentPerformed_name'].map(mapping_dict)\n",
    "# Using the replace() method to replace values in the column\n",
    "df['gumTreatmentPerformed_name'].replace(mapping_dict, inplace=True)"
   ]
  },
  {
   "cell_type": "code",
   "execution_count": 32,
   "metadata": {},
   "outputs": [],
   "source": [
    "# Using the map() method to create a new column\n",
    "df['gumDiseaseDiagnosed_name_mapeada'] = df['gumDiseaseDiagnosed_name'].map(mapping_dict)\n",
    "# Using the replace() method to replace values in the column\n",
    "df['gumDiseaseDiagnosed_name'].replace(mapping_dict, inplace=True)"
   ]
  },
  {
   "cell_type": "code",
   "execution_count": 28,
   "metadata": {},
   "outputs": [],
   "source": [
    "# Using the map() method to create a new column\n",
    "df['cecumRemoved_name_mapeada'] = df['cecumRemoved_name'].map(mapping_dict)\n",
    "# Using the replace() method to replace values in the column\n",
    "df['cecumRemoved_name'].replace(mapping_dict, inplace=True)"
   ]
  },
  {
   "cell_type": "code",
   "execution_count": 30,
   "metadata": {},
   "outputs": [],
   "source": [
    "# Using the map() method to create a new column\n",
    "df['chickenpox_name_mapeada'] = df['chickenpox_name'].map(mapping_dict)\n",
    "# Using the replace() method to replace values in the column\n",
    "df['chickenpox_name'].replace(mapping_dict, inplace=True)\n"
   ]
  },
  {
   "attachments": {},
   "cell_type": "markdown",
   "metadata": {},
   "source": [
    "new\n"
   ]
  },
  {
   "cell_type": "code",
   "execution_count": 54,
   "metadata": {},
   "outputs": [
    {
     "data": {
      "text/plain": [
       "Mul on normaalne soole tühjenemine                                                       1489\n",
       "Mul esineb sageli kõhukinnisust                                                           410\n",
       "Mul esineb vahelduv kõhulahtisus (periooditi kõhu kinnisus, periooditi kõhu lahtisus)     300\n",
       "Mul esineb sageli kõhulahtisust                                                           222\n",
       "Ei tea                                                                                     84\n",
       "Name: conditionBowel_name, dtype: int64"
      ]
     },
     "execution_count": 54,
     "metadata": {},
     "output_type": "execute_result"
    }
   ],
   "source": [
    "df['conditionBowel_name'].value_counts()"
   ]
  },
  {
   "cell_type": "code",
   "execution_count": 55,
   "metadata": {},
   "outputs": [],
   "source": [
    "# Create a dictionary to map values\n",
    "mapping_dict = {'Mul on normaalne soole tühjenemine': 'I have normal bowel movements', \n",
    "                'Mul esineb sageli kõhukinnisust': 'I am often constipated', \n",
    "                'Mul esineb vahelduv kõhulahtisus (periooditi kõhu kinnisus, periooditi kõhu lahtisus)': 'I have intermittent diarrhea (constipation at times, bloating at times)',\n",
    "                'Mul esineb sageli kõhulahtisust': 'I often have diarrhea', \n",
    "                'Ei tea': 'Do not know'}\n",
    "\n",
    "# Using the map() method to create a new column\n",
    "df['conditionBowel_name_mapeada'] = df['conditionBowel_name'].map(mapping_dict)\n",
    "# Using the replace() method to replace values in the column\n",
    "df['conditionBowel_name'].replace(mapping_dict, inplace=True)"
   ]
  },
  {
   "cell_type": "code",
   "execution_count": 56,
   "metadata": {},
   "outputs": [
    {
     "data": {
      "text/plain": [
       "Kraanivett                1907\n",
       "Kaevuvett                  272\n",
       "Pudelivett                 197\n",
       "Filtreeritud joogivett     124\n",
       "Ei tea                       5\n",
       "Name: dringingWaterAtHome_name, dtype: int64"
      ]
     },
     "execution_count": 56,
     "metadata": {},
     "output_type": "execute_result"
    }
   ],
   "source": [
    "df['dringingWaterAtHome_name'].value_counts()"
   ]
  },
  {
   "cell_type": "code",
   "execution_count": 57,
   "metadata": {},
   "outputs": [],
   "source": [
    "# Create a dictionary to map values\n",
    "mapping_dict = {'Kraanivett': 'Tap water', \n",
    "                'Kaevuvett': 'Well water', \n",
    "                'Pudelivett': 'Bottled water',\n",
    "                'Filtreeritud joogivett': 'Filtered drinking water', \n",
    "                'Ei tea': 'Do not know'}\n",
    "\n",
    "# Using the map() method to create a new column\n",
    "df['dringingWaterAtHome_name_mapeada'] = df['dringingWaterAtHome_name'].map(mapping_dict)\n",
    "# Using the replace() method to replace values in the column\n",
    "df['dringingWaterAtHome_name'].replace(mapping_dict, inplace=True)"
   ]
  },
  {
   "cell_type": "code",
   "execution_count": 59,
   "metadata": {},
   "outputs": [
    {
     "data": {
      "text/plain": [
       "Üks kord päevas                                      1395\n",
       "Kaks korda päevas                                     517\n",
       "Kolm kuni kuus korda nädalas                          403\n",
       "Üks kuni kaks korda nädalas                           109\n",
       "Üle kolme korra päevas                                 63\n",
       "Väga ebaregulaarselt, ükski eelnev vastus ei sobi      14\n",
       "Vähem kui üks kord nädalas                              3\n",
       "Name: frequencyGutEmpting_name, dtype: int64"
      ]
     },
     "execution_count": 59,
     "metadata": {},
     "output_type": "execute_result"
    }
   ],
   "source": [
    "df['frequencyGutEmpting_name'].value_counts()"
   ]
  },
  {
   "cell_type": "code",
   "execution_count": 60,
   "metadata": {},
   "outputs": [],
   "source": [
    "# Create a dictionary to map values\n",
    "mapping_dict = {'Üks kord päevas': 'Once a day', \n",
    "                'Kaks korda päevas': 'Twice a day', \n",
    "                'Kolm kuni kuus korda nädalas': 'Three to six times a week',\n",
    "                'Üks kuni kaks korda nädalas': 'One to two times a week', \n",
    "                'Üle kolme korra päevas': 'More than three times a day',\n",
    "                'Väga ebaregulaarselt, ükski eelnev vastus ei sobi': 'Very irregular, none of the previous answers fit',\n",
    "                'Vähem kui üks kord nädalas': 'Less than once a week'}\n",
    "\n",
    "# Using the map() method to create a new column\n",
    "df['frequencyGutEmpting_name_mapeada'] = df['frequencyGutEmpting_name'].map(mapping_dict)\n",
    "# Using the replace() method to replace values in the column\n",
    "df['frequencyGutEmpting_name'].replace(mapping_dict, inplace=True)"
   ]
  },
  {
   "cell_type": "code",
   "execution_count": 61,
   "metadata": {},
   "outputs": [],
   "source": [
    "df.to_excel('results/EstMB_phenotype_data.xlsx', index=False)"
   ]
  },
  {
   "attachments": {},
   "cell_type": "markdown",
   "metadata": {},
   "source": [
    "next"
   ]
  },
  {
   "cell_type": "code",
   "execution_count": 6,
   "metadata": {},
   "outputs": [
    {
     "data": {
      "text/plain": [
       "Mul on mõõdukas valu või ebamugavustunne           1243\n",
       "Mul ei ole mingeid valusid ega ebamugavustunnet    1212\n",
       "Mul on väga tugev valu või ebamugavustunne           53\n",
       "Mul on mõõdukas  valu või ebamugavustunne             1\n",
       "Name: health_status, dtype: int64"
      ]
     },
     "execution_count": 6,
     "metadata": {},
     "output_type": "execute_result"
    }
   ],
   "source": [
    "df['health_status'].value_counts()"
   ]
  },
  {
   "cell_type": "code",
   "execution_count": 7,
   "metadata": {},
   "outputs": [],
   "source": [
    "# Create a dictionary to map values\n",
    "mapping_dict = {'Mul on mõõdukas valu või ebamugavustunne': 'I have moderate pain or discomfort', \n",
    "                'Mul ei ole mingeid valusid ega ebamugavustunnet': 'I have no pain or discomfort', \n",
    "                'Mul on väga tugev valu või ebamugavustunne': 'I have very severe pain or discomfort',\n",
    "                'Mul on mõõdukas  valu või ebamugavustunne': 'I have moderate pain or discomfort'}\n",
    "\n",
    "# Using the map() method to create a new column\n",
    "df['health_status_mapeada'] = df['health_status'].map(mapping_dict)\n",
    "# Using the replace() method to replace values in the column\n",
    "df['health_status'].replace(mapping_dict, inplace=True)"
   ]
  },
  {
   "cell_type": "code",
   "execution_count": 8,
   "metadata": {},
   "outputs": [],
   "source": [
    "df.to_excel('results/EstMB_phenotype_data.xlsx', index=False)"
   ]
  }
 ],
 "metadata": {
  "kernelspec": {
   "display_name": "Python 3",
   "language": "python",
   "name": "python3"
  },
  "language_info": {
   "codemirror_mode": {
    "name": "ipython",
    "version": 3
   },
   "file_extension": ".py",
   "mimetype": "text/x-python",
   "name": "python",
   "nbconvert_exporter": "python",
   "pygments_lexer": "ipython3",
   "version": "3.9.6"
  }
 },
 "nbformat": 4,
 "nbformat_minor": 2
}
